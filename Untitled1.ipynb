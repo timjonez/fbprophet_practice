{
 "cells": [
  {
   "cell_type": "code",
   "execution_count": 1,
   "metadata": {},
   "outputs": [],
   "source": [
    "import pandas as pd\n",
    "from fbprophet import Prophet"
   ]
  },
  {
   "cell_type": "code",
   "execution_count": 2,
   "metadata": {},
   "outputs": [],
   "source": [
    "df = pd.read_csv('../Data/Miles_Traveled.csv')"
   ]
  },
  {
   "cell_type": "code",
   "execution_count": 4,
   "metadata": {},
   "outputs": [
    {
     "name": "stdout",
     "output_type": "stream",
     "text": [
      "<class 'pandas.core.frame.DataFrame'>\n",
      "RangeIndex: 588 entries, 0 to 587\n",
      "Data columns (total 2 columns):\n",
      "DATE                588 non-null object\n",
      "TRFVOLUSM227NFWA    588 non-null float64\n",
      "dtypes: float64(1), object(1)\n",
      "memory usage: 9.3+ KB\n"
     ]
    }
   ],
   "source": [
    "df.info()"
   ]
  },
  {
   "cell_type": "code",
   "execution_count": 5,
   "metadata": {},
   "outputs": [],
   "source": [
    "df.columns = ['ds','y']"
   ]
  },
  {
   "cell_type": "code",
   "execution_count": 6,
   "metadata": {},
   "outputs": [],
   "source": [
    "df['ds'] = pd.to_datetime(df['ds'])"
   ]
  },
  {
   "cell_type": "code",
   "execution_count": 7,
   "metadata": {},
   "outputs": [
    {
     "data": {
      "text/html": [
       "<div>\n",
       "<style scoped>\n",
       "    .dataframe tbody tr th:only-of-type {\n",
       "        vertical-align: middle;\n",
       "    }\n",
       "\n",
       "    .dataframe tbody tr th {\n",
       "        vertical-align: top;\n",
       "    }\n",
       "\n",
       "    .dataframe thead th {\n",
       "        text-align: right;\n",
       "    }\n",
       "</style>\n",
       "<table border=\"1\" class=\"dataframe\">\n",
       "  <thead>\n",
       "    <tr style=\"text-align: right;\">\n",
       "      <th></th>\n",
       "      <th>ds</th>\n",
       "      <th>y</th>\n",
       "    </tr>\n",
       "  </thead>\n",
       "  <tbody>\n",
       "    <tr>\n",
       "      <td>0</td>\n",
       "      <td>1970-01-01</td>\n",
       "      <td>80173.0</td>\n",
       "    </tr>\n",
       "    <tr>\n",
       "      <td>1</td>\n",
       "      <td>1970-02-01</td>\n",
       "      <td>77442.0</td>\n",
       "    </tr>\n",
       "    <tr>\n",
       "      <td>2</td>\n",
       "      <td>1970-03-01</td>\n",
       "      <td>90223.0</td>\n",
       "    </tr>\n",
       "    <tr>\n",
       "      <td>3</td>\n",
       "      <td>1970-04-01</td>\n",
       "      <td>89956.0</td>\n",
       "    </tr>\n",
       "    <tr>\n",
       "      <td>4</td>\n",
       "      <td>1970-05-01</td>\n",
       "      <td>97972.0</td>\n",
       "    </tr>\n",
       "  </tbody>\n",
       "</table>\n",
       "</div>"
      ],
      "text/plain": [
       "          ds        y\n",
       "0 1970-01-01  80173.0\n",
       "1 1970-02-01  77442.0\n",
       "2 1970-03-01  90223.0\n",
       "3 1970-04-01  89956.0\n",
       "4 1970-05-01  97972.0"
      ]
     },
     "execution_count": 7,
     "metadata": {},
     "output_type": "execute_result"
    }
   ],
   "source": [
    "df.head()"
   ]
  },
  {
   "cell_type": "code",
   "execution_count": 8,
   "metadata": {},
   "outputs": [],
   "source": [
    "train = df.iloc[:576]\n",
    "test = df.iloc[576:]"
   ]
  },
  {
   "cell_type": "code",
   "execution_count": 9,
   "metadata": {},
   "outputs": [
    {
     "name": "stderr",
     "output_type": "stream",
     "text": [
      "INFO:fbprophet:Disabling weekly seasonality. Run prophet with weekly_seasonality=True to override this.\n",
      "INFO:fbprophet:Disabling daily seasonality. Run prophet with daily_seasonality=True to override this.\n"
     ]
    },
    {
     "data": {
      "text/plain": [
       "<fbprophet.forecaster.Prophet at 0x7fdd3ff53a58>"
      ]
     },
     "execution_count": 9,
     "metadata": {},
     "output_type": "execute_result"
    }
   ],
   "source": [
    "m = Prophet()\n",
    "m.fit(train)"
   ]
  },
  {
   "cell_type": "code",
   "execution_count": 10,
   "metadata": {},
   "outputs": [],
   "source": [
    "future = m.make_future_dataframe(periods=12,freq='MS')"
   ]
  },
  {
   "cell_type": "code",
   "execution_count": 11,
   "metadata": {},
   "outputs": [],
   "source": [
    "forecast = m.predict(future)"
   ]
  },
  {
   "cell_type": "code",
   "execution_count": 12,
   "metadata": {},
   "outputs": [
    {
     "data": {
      "text/html": [
       "<div>\n",
       "<style scoped>\n",
       "    .dataframe tbody tr th:only-of-type {\n",
       "        vertical-align: middle;\n",
       "    }\n",
       "\n",
       "    .dataframe tbody tr th {\n",
       "        vertical-align: top;\n",
       "    }\n",
       "\n",
       "    .dataframe thead th {\n",
       "        text-align: right;\n",
       "    }\n",
       "</style>\n",
       "<table border=\"1\" class=\"dataframe\">\n",
       "  <thead>\n",
       "    <tr style=\"text-align: right;\">\n",
       "      <th></th>\n",
       "      <th>ds</th>\n",
       "      <th>trend</th>\n",
       "      <th>yhat_lower</th>\n",
       "      <th>yhat_upper</th>\n",
       "      <th>trend_lower</th>\n",
       "      <th>trend_upper</th>\n",
       "      <th>additive_terms</th>\n",
       "      <th>additive_terms_lower</th>\n",
       "      <th>additive_terms_upper</th>\n",
       "      <th>yearly</th>\n",
       "      <th>yearly_lower</th>\n",
       "      <th>yearly_upper</th>\n",
       "      <th>multiplicative_terms</th>\n",
       "      <th>multiplicative_terms_lower</th>\n",
       "      <th>multiplicative_terms_upper</th>\n",
       "      <th>yhat</th>\n",
       "    </tr>\n",
       "  </thead>\n",
       "  <tbody>\n",
       "    <tr>\n",
       "      <td>583</td>\n",
       "      <td>2018-08-01</td>\n",
       "      <td>263482.628242</td>\n",
       "      <td>274704.225072</td>\n",
       "      <td>285598.343343</td>\n",
       "      <td>263418.857806</td>\n",
       "      <td>263526.816915</td>\n",
       "      <td>16451.127049</td>\n",
       "      <td>16451.127049</td>\n",
       "      <td>16451.127049</td>\n",
       "      <td>16451.127049</td>\n",
       "      <td>16451.127049</td>\n",
       "      <td>16451.127049</td>\n",
       "      <td>0.0</td>\n",
       "      <td>0.0</td>\n",
       "      <td>0.0</td>\n",
       "      <td>279933.755291</td>\n",
       "    </tr>\n",
       "    <tr>\n",
       "      <td>584</td>\n",
       "      <td>2018-09-01</td>\n",
       "      <td>263625.909761</td>\n",
       "      <td>256068.351835</td>\n",
       "      <td>268115.662259</td>\n",
       "      <td>263543.843232</td>\n",
       "      <td>263711.145532</td>\n",
       "      <td>-1667.393344</td>\n",
       "      <td>-1667.393344</td>\n",
       "      <td>-1667.393344</td>\n",
       "      <td>-1667.393344</td>\n",
       "      <td>-1667.393344</td>\n",
       "      <td>-1667.393344</td>\n",
       "      <td>0.0</td>\n",
       "      <td>0.0</td>\n",
       "      <td>0.0</td>\n",
       "      <td>261958.516417</td>\n",
       "    </tr>\n",
       "    <tr>\n",
       "      <td>585</td>\n",
       "      <td>2018-10-01</td>\n",
       "      <td>263764.569296</td>\n",
       "      <td>263509.920462</td>\n",
       "      <td>274395.834316</td>\n",
       "      <td>263646.170577</td>\n",
       "      <td>263879.297779</td>\n",
       "      <td>5309.038396</td>\n",
       "      <td>5309.038396</td>\n",
       "      <td>5309.038396</td>\n",
       "      <td>5309.038396</td>\n",
       "      <td>5309.038396</td>\n",
       "      <td>5309.038396</td>\n",
       "      <td>0.0</td>\n",
       "      <td>0.0</td>\n",
       "      <td>0.0</td>\n",
       "      <td>269073.607691</td>\n",
       "    </tr>\n",
       "    <tr>\n",
       "      <td>586</td>\n",
       "      <td>2018-11-01</td>\n",
       "      <td>263907.850815</td>\n",
       "      <td>249848.716946</td>\n",
       "      <td>261650.122080</td>\n",
       "      <td>263740.245971</td>\n",
       "      <td>264052.646366</td>\n",
       "      <td>-8205.370364</td>\n",
       "      <td>-8205.370364</td>\n",
       "      <td>-8205.370364</td>\n",
       "      <td>-8205.370364</td>\n",
       "      <td>-8205.370364</td>\n",
       "      <td>-8205.370364</td>\n",
       "      <td>0.0</td>\n",
       "      <td>0.0</td>\n",
       "      <td>0.0</td>\n",
       "      <td>255702.480451</td>\n",
       "    </tr>\n",
       "    <tr>\n",
       "      <td>587</td>\n",
       "      <td>2018-12-01</td>\n",
       "      <td>264046.510349</td>\n",
       "      <td>251381.421651</td>\n",
       "      <td>262772.688824</td>\n",
       "      <td>263840.003381</td>\n",
       "      <td>264219.313108</td>\n",
       "      <td>-6918.188126</td>\n",
       "      <td>-6918.188126</td>\n",
       "      <td>-6918.188126</td>\n",
       "      <td>-6918.188126</td>\n",
       "      <td>-6918.188126</td>\n",
       "      <td>-6918.188126</td>\n",
       "      <td>0.0</td>\n",
       "      <td>0.0</td>\n",
       "      <td>0.0</td>\n",
       "      <td>257128.322224</td>\n",
       "    </tr>\n",
       "  </tbody>\n",
       "</table>\n",
       "</div>"
      ],
      "text/plain": [
       "            ds          trend     yhat_lower     yhat_upper    trend_lower  \\\n",
       "583 2018-08-01  263482.628242  274704.225072  285598.343343  263418.857806   \n",
       "584 2018-09-01  263625.909761  256068.351835  268115.662259  263543.843232   \n",
       "585 2018-10-01  263764.569296  263509.920462  274395.834316  263646.170577   \n",
       "586 2018-11-01  263907.850815  249848.716946  261650.122080  263740.245971   \n",
       "587 2018-12-01  264046.510349  251381.421651  262772.688824  263840.003381   \n",
       "\n",
       "       trend_upper  additive_terms  additive_terms_lower  \\\n",
       "583  263526.816915    16451.127049          16451.127049   \n",
       "584  263711.145532    -1667.393344          -1667.393344   \n",
       "585  263879.297779     5309.038396           5309.038396   \n",
       "586  264052.646366    -8205.370364          -8205.370364   \n",
       "587  264219.313108    -6918.188126          -6918.188126   \n",
       "\n",
       "     additive_terms_upper        yearly  yearly_lower  yearly_upper  \\\n",
       "583          16451.127049  16451.127049  16451.127049  16451.127049   \n",
       "584          -1667.393344  -1667.393344  -1667.393344  -1667.393344   \n",
       "585           5309.038396   5309.038396   5309.038396   5309.038396   \n",
       "586          -8205.370364  -8205.370364  -8205.370364  -8205.370364   \n",
       "587          -6918.188126  -6918.188126  -6918.188126  -6918.188126   \n",
       "\n",
       "     multiplicative_terms  multiplicative_terms_lower  \\\n",
       "583                   0.0                         0.0   \n",
       "584                   0.0                         0.0   \n",
       "585                   0.0                         0.0   \n",
       "586                   0.0                         0.0   \n",
       "587                   0.0                         0.0   \n",
       "\n",
       "     multiplicative_terms_upper           yhat  \n",
       "583                         0.0  279933.755291  \n",
       "584                         0.0  261958.516417  \n",
       "585                         0.0  269073.607691  \n",
       "586                         0.0  255702.480451  \n",
       "587                         0.0  257128.322224  "
      ]
     },
     "execution_count": 12,
     "metadata": {},
     "output_type": "execute_result"
    }
   ],
   "source": [
    "forecast.tail()"
   ]
  },
  {
   "cell_type": "code",
   "execution_count": 14,
   "metadata": {},
   "outputs": [],
   "source": [
    "pd.plotting.register_matplotlib_converters()"
   ]
  },
  {
   "cell_type": "code",
   "execution_count": 21,
   "metadata": {},
   "outputs": [
    {
     "data": {
      "text/plain": [
       "<matplotlib.axes._subplots.AxesSubplot at 0x7fdd38953f28>"
      ]
     },
     "execution_count": 21,
     "metadata": {},
     "output_type": "execute_result"
    },
    {
     "data": {
      "image/png": "[encoded data removed]",
      "text/plain": [
       "<Figure size 864x576 with 1 Axes>"
      ]
     },
     "metadata": {
      "needs_background": "light"
     },
     "output_type": "display_data"
    }
   ],
   "source": [
    "ax = forecast.plot(x='ds',y='yhat',label='prediction',legend=True,figsize=(12,8))\n",
    "test.plot(x='ds',y='y',ax=ax,xlim=('2018-01-01','2019-01-01'))"
   ]
  },
  {
   "cell_type": "code",
   "execution_count": 22,
   "metadata": {},
   "outputs": [],
   "source": [
    "from statsmodels.tools.eval_measures import rmse"
   ]
  },
  {
   "cell_type": "code",
   "execution_count": 23,
   "metadata": {},
   "outputs": [],
   "source": [
    "predictions = forecast.iloc[-12:]['yhat']"
   ]
  },
  {
   "cell_type": "code",
   "execution_count": 26,
   "metadata": {},
   "outputs": [
    {
     "data": {
      "text/plain": [
       "8566.92957471868"
      ]
     },
     "execution_count": 26,
     "metadata": {},
     "output_type": "execute_result"
    }
   ],
   "source": [
    "rmse(test['y'],predictions)"
   ]
  },
  {
   "cell_type": "code",
   "execution_count": 27,
   "metadata": {},
   "outputs": [
    {
     "data": {
      "text/plain": [
       "y    268739.666667\n",
       "dtype: float64"
      ]
     },
     "execution_count": 27,
     "metadata": {},
     "output_type": "execute_result"
    }
   ],
   "source": [
    "test.mean()"
   ]
  },
  {
   "cell_type": "code",
   "execution_count": 28,
   "metadata": {},
   "outputs": [],
   "source": [
    "from fbprophet.diagnostics import cross_validation,performance_metrics"
   ]
  },
  {
   "cell_type": "code",
   "execution_count": 29,
   "metadata": {},
   "outputs": [],
   "source": [
    "from fbprophet.plot import plot_cross_validation_metric"
   ]
  },
  {
   "cell_type": "code",
   "execution_count": 30,
   "metadata": {},
   "outputs": [],
   "source": [
    "initial = 5*365\n",
    "initial =str(initial)+ ' days'"
   ]
  },
  {
   "cell_type": "code",
   "execution_count": 32,
   "metadata": {},
   "outputs": [],
   "source": [
    "period = 5*365\n",
    "period = str(period)+' days'"
   ]
  },
  {
   "cell_type": "code",
   "execution_count": 33,
   "metadata": {},
   "outputs": [],
   "source": [
    "horizon = 5*365\n",
    "horizon = str(horizon)+' days'"
   ]
  },
  {
   "cell_type": "code",
   "execution_count": 34,
   "metadata": {},
   "outputs": [
    {
     "name": "stderr",
     "output_type": "stream",
     "text": [
      "INFO:fbprophet:Making 8 forecasts with cutoffs between 1977-12-11 00:00:00 and 2012-12-02 00:00:00\n"
     ]
    }
   ],
   "source": [
    "df_cv = cross_validation(m,initial=initial,period=period,horizon=horizon)"
   ]
  },
  {
   "cell_type": "code",
   "execution_count": 35,
   "metadata": {},
   "outputs": [
    {
     "data": {
      "text/html": [
       "<div>\n",
       "<style scoped>\n",
       "    .dataframe tbody tr th:only-of-type {\n",
       "        vertical-align: middle;\n",
       "    }\n",
       "\n",
       "    .dataframe tbody tr th {\n",
       "        vertical-align: top;\n",
       "    }\n",
       "\n",
       "    .dataframe thead th {\n",
       "        text-align: right;\n",
       "    }\n",
       "</style>\n",
       "<table border=\"1\" class=\"dataframe\">\n",
       "  <thead>\n",
       "    <tr style=\"text-align: right;\">\n",
       "      <th></th>\n",
       "      <th>ds</th>\n",
       "      <th>yhat</th>\n",
       "      <th>yhat_lower</th>\n",
       "      <th>yhat_upper</th>\n",
       "      <th>y</th>\n",
       "      <th>cutoff</th>\n",
       "    </tr>\n",
       "  </thead>\n",
       "  <tbody>\n",
       "    <tr>\n",
       "      <td>0</td>\n",
       "      <td>1978-01-01</td>\n",
       "      <td>112522.814309</td>\n",
       "      <td>110880.693645</td>\n",
       "      <td>114207.165607</td>\n",
       "      <td>109838.0</td>\n",
       "      <td>1977-12-11</td>\n",
       "    </tr>\n",
       "    <tr>\n",
       "      <td>1</td>\n",
       "      <td>1978-02-01</td>\n",
       "      <td>108452.773761</td>\n",
       "      <td>106958.063545</td>\n",
       "      <td>110029.965163</td>\n",
       "      <td>107018.0</td>\n",
       "      <td>1977-12-11</td>\n",
       "    </tr>\n",
       "    <tr>\n",
       "      <td>2</td>\n",
       "      <td>1978-03-01</td>\n",
       "      <td>122874.818036</td>\n",
       "      <td>121248.545815</td>\n",
       "      <td>124508.945040</td>\n",
       "      <td>125035.0</td>\n",
       "      <td>1977-12-11</td>\n",
       "    </tr>\n",
       "    <tr>\n",
       "      <td>3</td>\n",
       "      <td>1978-04-01</td>\n",
       "      <td>125277.539092</td>\n",
       "      <td>123608.730099</td>\n",
       "      <td>126911.804945</td>\n",
       "      <td>122741.0</td>\n",
       "      <td>1977-12-11</td>\n",
       "    </tr>\n",
       "    <tr>\n",
       "      <td>4</td>\n",
       "      <td>1978-05-01</td>\n",
       "      <td>132901.375808</td>\n",
       "      <td>131292.655481</td>\n",
       "      <td>134466.154549</td>\n",
       "      <td>134427.0</td>\n",
       "      <td>1977-12-11</td>\n",
       "    </tr>\n",
       "  </tbody>\n",
       "</table>\n",
       "</div>"
      ],
      "text/plain": [
       "          ds           yhat     yhat_lower     yhat_upper         y     cutoff\n",
       "0 1978-01-01  112522.814309  110880.693645  114207.165607  109838.0 1977-12-11\n",
       "1 1978-02-01  108452.773761  106958.063545  110029.965163  107018.0 1977-12-11\n",
       "2 1978-03-01  122874.818036  121248.545815  124508.945040  125035.0 1977-12-11\n",
       "3 1978-04-01  125277.539092  123608.730099  126911.804945  122741.0 1977-12-11\n",
       "4 1978-05-01  132901.375808  131292.655481  134466.154549  134427.0 1977-12-11"
      ]
     },
     "execution_count": 35,
     "metadata": {},
     "output_type": "execute_result"
    }
   ],
   "source": [
    "df_cv.head()"
   ]
  },
  {
   "cell_type": "code",
   "execution_count": 38,
   "metadata": {},
   "outputs": [
    {
     "data": {
      "image/png": "[encoded data removed]",
      "text/plain": [
       "<Figure size 720x432 with 1 Axes>"
      ]
     },
     "metadata": {},
     "output_type": "display_data"
    }
   ],
   "source": [
    "plot_cross_validation_metric(df_cv,metric='rmse');"
   ]
  },
  {
   "cell_type": "code",
   "execution_count": null,
   "metadata": {},
   "outputs": [],
   "source": []
  }
 ],
 "metadata": {
  "kernelspec": {
   "display_name": "Python 3",
   "language": "python",
   "name": "python3"
  },
  "language_info": {
   "codemirror_mode": {
    "name": "ipython",
    "version": 3
   },
   "file_extension": ".py",
   "mimetype": "text/x-python",
   "name": "python",
   "nbconvert_exporter": "python",
   "pygments_lexer": "ipython3",
   "version": "3.7.3"
  }
 },
 "nbformat": 4,
 "nbformat_minor": 2
}
